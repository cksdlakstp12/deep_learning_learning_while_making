{
  "cells": [
    {
      "cell_type": "markdown",
      "metadata": {
        "id": "view-in-github",
        "colab_type": "text"
      },
      "source": [
        "<a href=\"https://colab.research.google.com/github/cksdlakstp12/deep_learning_study/blob/main/yolor_xray.ipynb\" target=\"_parent\"><img src=\"https://colab.research.google.com/assets/colab-badge.svg\" alt=\"Open In Colab\"/></a>"
      ]
    },
    {
      "cell_type": "code",
      "execution_count": null,
      "metadata": {
        "colab": {
          "base_uri": "https://localhost:8080/"
        },
        "id": "FyRXVTTgqNL5",
        "outputId": "ddc96baa-bd7e-47d5-c589-f42a5c254cd1"
      },
      "outputs": [
        {
          "name": "stdout",
          "output_type": "stream",
          "text": [
            "Mounted at /content/drive\n"
          ]
        }
      ],
      "source": [
        "from google.colab import drive\n",
        "drive.mount(\"/content/drive\")"
      ]
    },
    {
      "cell_type": "markdown",
      "metadata": {
        "id": "mcgNGX4R-0B9"
      },
      "source": [
        "# 데이터 정제 및 준비"
      ]
    },
    {
      "cell_type": "markdown",
      "metadata": {
        "id": "CtkSIhI9C1in"
      },
      "source": [
        "## Directory maker"
      ]
    },
    {
      "cell_type": "code",
      "execution_count": null,
      "metadata": {
        "id": "8t48u0nPIJIp"
      },
      "outputs": [],
      "source": [
        "# /content/drive/MyDrive/datasets/xray/Train/company/object/category/img\n",
        "# /content/drive/MyDrive/datasets/xray/Annotation/Train/company/object/category/img\n",
        "# /content/drive/MyDrive/datasets/xray/Validation/company/object/category/img\n",
        "# /content/drive/MyDrive/datasets/xray/Annotation/Validation/company/object/category/img"
      ]
    },
    {
      "cell_type": "code",
      "execution_count": null,
      "metadata": {
        "id": "GIh4zSU-C3k1"
      },
      "outputs": [],
      "source": [
        "import os, shutil\n",
        "\n",
        "modes = [\"Train\", \"Validation\"]\n",
        "companies = [\"Smith\", \"Astrophysics\", \"Rapiscan\"]\n",
        "objects = [\"Aerosol\", \"Alcohol\", \"Awl\", \"Axe\", \"Bat\", \"Battery\", \"Bullet\", \"Chisel\", \"ElectronicCigarettes\",\n",
        "              \"ElectronicCigarettesLiquid\", \"Firecracker\", \"Gun\", \"GunParts\", \"Hammer\", \"HandCuffs\",\n",
        "              \"HDDExternal\", \"HDD\", \"Knife\", \"LapTop\", \"Lighter\", \"Liquid\", \"Match\", \"MetalPipe\", \"NailClippers\",\n",
        "              \"Plier\", \"PortableGas\", \"Saw\", \"Scissors\", \"Screwdriver\", \"SmartPhone\", \"SolidFuel\", \"Spanner\",\n",
        "              \"SSD\", \"SupplymentaryBattery\", \"TabletPC\", \"Thinner\", \"ThrowingKnife\", \"USB\", \"ZippoOil\"]\n",
        "categories = [\"Multiple_Categories\", \"Multiple_Other\", \"Single_Default\", \"Single_Other\"]\n",
        "\n",
        "ROOT = f\"/content/drive/MyDrive/datasets/xray/Annotation\"\n",
        "for mode in modes:\n",
        "  for company in companies:\n",
        "    for obj in objects:\n",
        "      path1 = f\"{ROOT}/{mode}/{company}/{obj}\"\n",
        "      if not os.path.exists(path1):\n",
        "        os.mkdir(path1)\n",
        "      for ctg in categories:\n",
        "        path2 = f\"{path1}/{ctg}\"\n",
        "        if not os.path.exists(path2):\n",
        "          os.mkdir(path2)"
      ]
    },
    {
      "cell_type": "markdown",
      "metadata": {
        "id": "UdqxxYvDTsVj"
      },
      "source": [
        "## 데이터 압축 해제"
      ]
    },
    {
      "cell_type": "markdown",
      "metadata": {
        "id": "Io2OdVg_Lzng"
      },
      "source": [
        "### Validation"
      ]
    },
    {
      "cell_type": "code",
      "execution_count": null,
      "metadata": {
        "id": "eAuhagN9TsIQ"
      },
      "outputs": [],
      "source": [
        "import os\n",
        "import zipfile\n",
        "import glob\n",
        "\n",
        "KW = \"Rapiscan\"\n",
        "idx = 3\n",
        "\n",
        "ROOT = f\"/content/drive/MyDrive/datasets/xray/Validation/{KW}\"\n",
        "zip_path = f\"{ROOT}/{KW}_{idx}.zip\"\n",
        "print(zip_path, \"extracting\")\n",
        "unpack_zipfile = zipfile.ZipFile(zip_path)\n",
        "unpack_zipfile.extractall(ROOT)\n",
        "unpack_zipfile.close()\n",
        "os.remove(zip_path)\n",
        "print(zip_path, \"extracted!\")"
      ]
    },
    {
      "cell_type": "markdown",
      "metadata": {
        "id": "KteMO_1FEZH4"
      },
      "source": [
        "### Train : local work"
      ]
    },
    {
      "cell_type": "code",
      "execution_count": null,
      "metadata": {
        "id": "BWrDINudEbP_"
      },
      "outputs": [],
      "source": [
        "import os\n",
        "import zipfile\n",
        "import glob\n",
        "\n",
        "file_name = \"[Smith]Bullet.zip\"\n",
        "path = f\"/content/drive/MyDrive/datasets/xray/Train/Smith/{file_name}\"\n",
        "os.system(f\"cp {path} /content\")\n",
        "\n",
        "KW = \"Smith\"\n",
        "ROOT = f\"/content/drive/MyDrive/datasets/xray/Train/{KW}\"\n",
        "\n",
        "zipfile_name = f\"/content/{file_name}\"\n",
        "\n",
        "print(zipfile_name, \"extracting\")\n",
        "unpack_zipfile = zipfile.ZipFile(zipfile_name)\n",
        "unpack_zipfile.extractall(ROOT)\n",
        "unpack_zipfile.close()\n",
        "\n",
        "# os.remove(zipfile_name)\n",
        "\n",
        "print(zipfile_name, \"extracted!\")"
      ]
    },
    {
      "cell_type": "markdown",
      "metadata": {
        "id": "C2KmK6uwL1e_"
      },
      "source": [
        "### Train : drive work"
      ]
    },
    {
      "cell_type": "code",
      "execution_count": null,
      "metadata": {
        "id": "I1qm0LsKDKhl"
      },
      "outputs": [],
      "source": [
        "import os\n",
        "import zipfile\n",
        "import glob\n",
        "import os\n",
        "\n",
        "KW = \"Rapiscan\"\n",
        "ROOT = f\"/content/drive/MyDrive/datasets/xray/Train/{KW}\"\n",
        "GLOB_PATH = f\"{ROOT}/*.zip\"\n",
        "\n",
        "zipfile_name_list = glob.glob(GLOB_PATH)[:1]\n",
        "\n",
        "for zipfile_name in zipfile_name_list:\n",
        "  print(zipfile_name, \"extracting\")\n",
        "  unpack_zipfile = zipfile.ZipFile(zipfile_name)\n",
        "  unpack_zipfile.extractall(ROOT)\n",
        "  unpack_zipfile.close()\n",
        "\n",
        "  # os.remove(zipfile_name)\n",
        "\n",
        "  print(zipfile_name, \"extracted!\")"
      ]
    },
    {
      "cell_type": "markdown",
      "metadata": {
        "id": "ELndME9g0lY3"
      },
      "source": [
        "## checker"
      ]
    },
    {
      "cell_type": "markdown",
      "metadata": {
        "id": "GA8aXV-ZcwKk"
      },
      "source": [
        "### 어떤 디렉토리가 존재하지 않는지 확인"
      ]
    },
    {
      "cell_type": "code",
      "execution_count": null,
      "metadata": {
        "id": "OhCwekfvcJc_"
      },
      "outputs": [],
      "source": [
        "import os\n",
        "import glob\n",
        "\n",
        "modes = [\n",
        "  \"Train\", \n",
        "  \"Validation\"\n",
        "]\n",
        "companies = [\n",
        "  \"Smith\",\n",
        "  \"Astrophysics\",\n",
        "  \"Rapiscan\"\n",
        "]\n",
        "classes = [\n",
        "  \"Aerosol\", \"Alcohol\", \"Awl\", \"Axe\", \"Bat\", \"Battery\", \"Bullet\", \"Chisel\", \"ElectronicCigarettes\",\n",
        "  \"ElectronicCigarettesLiquid\", \"Firecracker\", \"Gun\", \"GunParts\", \"Hammer\", \"HandCuffs\",\n",
        "  \"HDDExternal\", \"HDD\", \"Knife\", \"LapTop\", \"Lighter\", \"Liquid\", \"Match\", \"MetalPipe\", \"NailClippers\",\n",
        "  \"Plier\", \"PortableGas\", \"Saw\", \"Scissors\", \"Screwdriver\", \"SmartPhone\", \"SolidFuel\", \"Spanner\",\n",
        "  \"SSD\", \"SupplymentaryBattery\", \"TabletPC\", \"Thinner\", \"ThrowingKnife\", \"USB\", \"ZippoOil\"\n",
        "]\n",
        "categories = [\n",
        "  \"Multiple_Categories\",\n",
        "  \"Multiple_Other\",\n",
        "  \"Single_Default\",\n",
        "  \"Single_Other\"\n",
        "]\n",
        "\n",
        "for m in modes:\n",
        "  for com in companies:\n",
        "    for cls in classes:\n",
        "      for ctg in categories:\n",
        "        path = f\"/content/drive/MyDrive/datasets/xray/{m}/{com}/{cls}/{ctg}\"\n",
        "        if not os.path.exists(path):\n",
        "          print(path, \"is not exist...\")"
      ]
    },
    {
      "cell_type": "markdown",
      "metadata": {
        "id": "YobLbG_1oGse"
      },
      "source": [
        "### png파일이 존재하는지 확인"
      ]
    },
    {
      "cell_type": "code",
      "execution_count": null,
      "metadata": {
        "id": "ZUtXtOZBoGkD"
      },
      "outputs": [],
      "source": [
        "import os\n",
        "import glob\n",
        "\n",
        "modes = [\n",
        "  \"Train\", \n",
        "  \"Validation\"\n",
        "]\n",
        "companies = [\n",
        "  \"Smith\",\n",
        "  \"Astrophysics\",\n",
        "  \"Rapiscan\"\n",
        "]\n",
        "classes = [\n",
        "  \"Aerosol\", \"Alcohol\", \"Awl\", \"Axe\", \"Bat\", \"Battery\", \"Bullet\", \"Chisel\", \"ElectronicCigarettes\",\n",
        "  \"ElectronicCigarettesLiquid\", \"Firecracker\", \"Gun\", \"GunParts\", \"Hammer\", \"HandCuffs\",\n",
        "  \"HDDExternal\", \"HDD\", \"Knife\", \"LapTop\", \"Lighter\", \"Liquid\", \"Match\", \"MetalPipe\", \"NailClippers\",\n",
        "  \"Plier\", \"PortableGas\", \"Saw\", \"Scissors\", \"Screwdriver\", \"SmartPhone\", \"SolidFuel\", \"Spanner\",\n",
        "  \"SSD\", \"SupplymentaryBattery\", \"TabletPC\", \"Thinner\", \"ThrowingKnife\", \"USB\", \"ZippoOil\"\n",
        "]\n",
        "categories = [\n",
        "  \"Multiple_Categories\",\n",
        "  \"Multiple_Other\",\n",
        "  \"Single_Default\",\n",
        "  \"Single_Other\"\n",
        "]\n",
        "\n",
        "for m in modes:\n",
        "  for com in companies:\n",
        "    for cls in classes:\n",
        "      for ctg in categories:\n",
        "        path = f\"/content/drive/MyDrive/datasets/xray/{m}/{com}/{cls}/{ctg}\"\n",
        "        if os.path.exists(path):\n",
        "          png_list_len = len(glob.glob(f\"{path}/*.png\"))\n",
        "          is_exists = \"file exists\" if png_list_len != 0 else \"XXXXXXXXXXXXXXXXXXXXXXXXXXXXXXXXXXXXXXXXXXXXXXXXXXXXXXXXXXXXXX\"\n",
        "          print(f\"{path} : {is_exists}\")\n",
        "\n",
        "          if png_list_len == 0:\n",
        "            txt_file_path = \"/content/drive/MyDrive/datasets/xray/none_file_dirs.txt\"\n",
        "            with open(txt_file_path, \"a\") as f:\n",
        "              f.write(path + \"\\n\")\n",
        "        else:\n",
        "          print(path, \"XXXXXXXXXXXXXXXXXXXXXXXXXXXXXXXXXXXXXXXXXXXXXXXXXXXXXXXXXXXXXX\")\n",
        "      print(\"==\"*50)\n",
        "    print(\"==\"*50)"
      ]
    },
    {
      "cell_type": "markdown",
      "metadata": {
        "id": "jg2kDAwPco3-"
      },
      "source": [
        "### 디렉토리 내에 png 파일만 존재하는지 확인"
      ]
    },
    {
      "cell_type": "code",
      "execution_count": null,
      "metadata": {
        "id": "OB6yfKZjSuUg"
      },
      "outputs": [],
      "source": [
        "import os\n",
        "import glob\n",
        "\n",
        "modes = [\n",
        "  \"Train\", \n",
        "  \"Validation\"\n",
        "]\n",
        "companies = [\n",
        "  \"Smith\",\n",
        "  \"Astrophysics\",\n",
        "  \"Rapiscan\"\n",
        "]\n",
        "classes = [\n",
        "  \"Aerosol\", \"Alcohol\", \"Awl\", \"Axe\", \"Bat\", \"Battery\", \"Bullet\", \"Chisel\", \"ElectronicCigarettes\",\n",
        "  \"ElectronicCigarettesLiquid\", \"Firecracker\", \"Gun\", \"GunParts\", \"Hammer\", \"HandCuffs\",\n",
        "  \"HDDExternal\", \"HDD\", \"Knife\", \"LapTop\", \"Lighter\", \"Liquid\", \"Match\", \"MetalPipe\", \"NailClippers\",\n",
        "  \"Plier\", \"PortableGas\", \"Saw\", \"Scissors\", \"Screwdriver\", \"SmartPhone\", \"SolidFuel\", \"Spanner\",\n",
        "  \"SSD\", \"SupplymentaryBattery\", \"TabletPC\", \"Thinner\", \"ThrowingKnife\", \"USB\", \"ZippoOil\"\n",
        "]\n",
        "categories = [\n",
        "  \"Multiple_Categories\",\n",
        "  \"Multiple_Other\",\n",
        "  \"Single_Default\",\n",
        "  \"Single_Other\"\n",
        "]\n",
        "\n",
        "for m in modes:\n",
        "  for com in companies:\n",
        "    for cls in classes:\n",
        "      for ctg in categories:\n",
        "        path = f\"/content/drive/MyDrive/datasets/xray/{m}/{com}/{cls}/{ctg}\"\n",
        "        if os.path.exists(path):\n",
        "          png_list_len = len(glob.glob(f\"{path}/*.png\"))\n",
        "          file_list_len = len(os.listdir(path))\n",
        "          is_same_size = \"same size\" if png_list_len == file_list_len else \"XXXXXXXXXXXXXXXXXXXXXXXXXXXXXXXXXXXXXXXXXXXXXXXXXXXXXXXXXX\"\n",
        "          print(f\"{path} : {file_list_len} files, {png_list_len} png files, {is_same_size}\")\n",
        "        else:\n",
        "          print(path, \"XXXXXXXXXXXXXXXXXXXXXXXXXXXXXXXXXXXXXXXXXXXXXXXXXXXXXXXXXX\") # Validation/Rapiscan/LapTop/Multiple_Other is not exist \n",
        "      print(\"==\"*50)\n",
        "    print(\"==\"*50)"
      ]
    },
    {
      "cell_type": "markdown",
      "metadata": {
        "id": "TwqhI99SG2-4"
      },
      "source": [
        "### 디렉토리 내에 txt 파일만 존재하는지 확인"
      ]
    },
    {
      "cell_type": "code",
      "execution_count": null,
      "metadata": {
        "id": "9cmxurrrG3JN"
      },
      "outputs": [],
      "source": [
        "import os\n",
        "import glob\n",
        "\n",
        "modes = [\n",
        "  \"Train\", \n",
        "  \"Validation\"\n",
        "]\n",
        "companies = [\n",
        "  \"Smith\",\n",
        "  \"Astrophysics\",\n",
        "  \"Rapiscan\"\n",
        "]\n",
        "classes = [\n",
        "  \"Aerosol\", \"Alcohol\", \"Awl\", \"Axe\", \"Bat\", \"Battery\", \"Bullet\", \"Chisel\", \"ElectronicCigarettes\",\n",
        "  \"ElectronicCigarettesLiquid\", \"Firecracker\", \"Gun\", \"GunParts\", \"Hammer\", \"HandCuffs\",\n",
        "  \"HDDExternal\", \"HDD\", \"Knife\", \"LapTop\", \"Lighter\", \"Liquid\", \"Match\", \"MetalPipe\", \"NailClippers\",\n",
        "  \"Plier\", \"PortableGas\", \"Saw\", \"Scissors\", \"Screwdriver\", \"SmartPhone\", \"SolidFuel\", \"Spanner\",\n",
        "  \"SSD\", \"SupplymentaryBattery\", \"TabletPC\", \"Thinner\", \"ThrowingKnife\", \"USB\", \"ZippoOil\"\n",
        "]\n",
        "categories = [\n",
        "  \"Multiple_Categories\",\n",
        "  \"Multiple_Other\",\n",
        "  \"Single_Default\",\n",
        "  \"Single_Other\"\n",
        "]\n",
        "\n",
        "for m in modes:\n",
        "  for com in companies:\n",
        "    for cls in classes:\n",
        "      for ctg in categories:\n",
        "        path = f\"/content/drive/MyDrive/datasets/xray/Annotation/{m}/{com}/{cls}/{ctg}\"\n",
        "        if os.path.exists(path):\n",
        "          txt_list_len = len(glob.glob(f\"{path}/*.txt\"))\n",
        "          file_list_len = len(os.listdir(path))\n",
        "          is_same_size = \"same size\" if txt_list_len == file_list_len else \"different size XXXXXXXXXXXXXXXXXXXXXXXXXXXXXXXXXXXXXXXXXXXXXXXXXXXXXXXXXX\"\n",
        "          print(f\"{path} : {file_list_len} files, {txt_list_len} txt files, {is_same_size}\")\n",
        "        else:\n",
        "          print(path, \"is not exist...\") # Validation/Rapiscan/LapTop/Multiple_Other is not exist \n",
        "      print(\"==\"*50)\n",
        "    print(\"==\"*50)"
      ]
    },
    {
      "cell_type": "markdown",
      "metadata": {
        "id": "_qW91KhQ7Qob"
      },
      "source": [
        "### 어노테이션과 이미지가 같은 개수인지 파악함"
      ]
    },
    {
      "cell_type": "code",
      "execution_count": null,
      "metadata": {
        "id": "l8ZbO50P7X25"
      },
      "outputs": [],
      "source": [
        "import os\n",
        "import glob\n",
        "\n",
        "modes = [\n",
        "  \"Train\", \n",
        "  \"Validation\"\n",
        "]\n",
        "companies = [\n",
        "  \"Smith\",\n",
        "  \"Astrophysics\",\n",
        "  \"Rapiscan\"\n",
        "]\n",
        "classes = [\n",
        "  \"Aerosol\", \"Alcohol\", \"Awl\", \"Axe\", \"Bat\", \"Battery\", \"Bullet\", \"Chisel\", \"ElectronicCigarettes\",\n",
        "  \"ElectronicCigarettesLiquid\", \"Firecracker\", \"Gun\", \"GunParts\", \"Hammer\", \"HandCuffs\",\n",
        "  \"HDDExternal\", \"HDD\", \"Knife\", \"LapTop\", \"Lighter\", \"Liquid\", \"Match\", \"MetalPipe\", \"NailClippers\",\n",
        "  \"Plier\", \"PortableGas\", \"Saw\", \"Scissors\", \"Screwdriver\", \"SmartPhone\", \"SolidFuel\", \"Spanner\",\n",
        "  \"SSD\", \"SupplymentaryBattery\", \"TabletPC\", \"Thinner\", \"ThrowingKnife\", \"USB\", \"ZippoOil\"\n",
        "]\n",
        "categories = [\n",
        "  \"Multiple_Categories\",\n",
        "  \"Multiple_Other\",\n",
        "  \"Single_Default\",\n",
        "  \"Single_Other\"\n",
        "]\n",
        "\n",
        "for m in modes:\n",
        "  for com in companies:\n",
        "    for cls in classes:\n",
        "      for ctg in categories:\n",
        "        png_path = f\"/content/drive/MyDrive/datasets/xray/{m}/{com}/{cls}/{ctg}\"\n",
        "        anno_path = f\"/content/drive/MyDrive/datasets/xray/Annotation/{m}/{com}/{cls}/{ctg}\"\n",
        "        if os.path.exists(png_path) and os.path.exists(anno_path):\n",
        "          png_len = len(os.listdir(png_path))\n",
        "          anno_len = len(os.listdir(anno_path))\n",
        "          is_same_size = \"same size\" if png_len <= anno_len else \"XXXXXXXXXXXXXXXXXXXXXXXXXXXXXXXXXXXXXXXXXXXXXXXXXXXXXXXXXXXXXXXXXXXXXXXXXXXXXXXXXX\"\n",
        "          print(f\"./{m}/{com}/{cls}/{ctg} : {png_len} png files, {anno_len} anno files, {is_same_size}\")\n",
        "        else:\n",
        "          if os.path.exists(png_path):\n",
        "            print(png_path, \"is not exist...\")\n",
        "          if os.path.exists(anno_path):\n",
        "            print(anno_path, \"is not exist...\")\n",
        "      print(\"==\"*50)\n",
        "    print(\"==\"*50)"
      ]
    },
    {
      "cell_type": "markdown",
      "metadata": {
        "id": "1HQYxcOdusQI"
      },
      "source": [
        "### 어노테이션보다 이미지가 더 많으면 어노테이션이 없는 이미지 삭제"
      ]
    },
    {
      "cell_type": "markdown",
      "metadata": {
        "id": "siWnwiJ2w1YO"
      },
      "source": [
        "#### 이상있는 디렉토리에만 접근함. 드라이브 시간초과 없음."
      ]
    },
    {
      "cell_type": "code",
      "execution_count": null,
      "metadata": {
        "id": "5SLvUr_XuQU6"
      },
      "outputs": [],
      "source": [
        "import os\n",
        "import glob\n",
        "\n",
        "del_file_dirs = [\n",
        "                 \"/Train/Smith/Bullet/Single_Other\"\n",
        "]\n",
        "\n",
        "txt_path = \"/content/drive/MyDrive/datasets/xray/del_files.txt\"\n",
        "with open(txt_path, \"w\") as f:\n",
        "  for del_file_dir in del_file_dirs:\n",
        "    png_path = f\"/content/drive/MyDrive/datasets/xray/{del_file_dir}/*.png\"\n",
        "    anno_path = f\"/content/drive/MyDrive/datasets/xray/Annotation/{del_file_dir}/*.txt\"\n",
        "    png_names = glob.glob(png_path)\n",
        "    anno_names = glob.glob(anno_path)\n",
        "    if len(png_names) > len(anno_names):\n",
        "      for png in png_names:\n",
        "        png2txt = png.replace(\"png\", \"txt\").replace(\"xray\", \"xray/Annotation\")\n",
        "        if png2txt not in anno_names:\n",
        "          print(png)\n",
        "          os.system(f\"rm {png}\")\n",
        "          f.write(png +'\\n')"
      ]
    },
    {
      "cell_type": "markdown",
      "metadata": {
        "id": "ShcJYzw8w36_"
      },
      "source": [
        "#### Original : 드라이브 시간 초과 나옴"
      ]
    },
    {
      "cell_type": "code",
      "execution_count": null,
      "metadata": {
        "id": "7L2pDk7bunSC"
      },
      "outputs": [],
      "source": [
        "import os\n",
        "import glob\n",
        "\n",
        "modes = [\n",
        "  \"Train\", \n",
        "  \"Validation\"\n",
        "]\n",
        "companies = [\n",
        "  \"Smith\",\n",
        "  \"Astrophysics\",\n",
        "  \"Rapiscan\"\n",
        "]\n",
        "classes = [\n",
        "  \"Aerosol\", \"Alcohol\", \"Awl\", \"Axe\", \"Bat\", \"Battery\", \"Bullet\", \"Chisel\", \"ElectronicCigarettes\",\n",
        "  \"ElectronicCigarettesLiquid\", \"Firecracker\", \"Gun\", \"GunParts\", \"Hammer\", \"HandCuffs\",\n",
        "  \"HDDExternal\", \"HDD\", \"Knife\", \"LapTop\", \"Lighter\", \"Liquid\", \"Match\", \"MetalPipe\", \"NailClippers\",\n",
        "  \"Plier\", \"PortableGas\", \"Saw\", \"Scissors\", \"Screwdriver\", \"SmartPhone\", \"SolidFuel\", \"Spanner\",\n",
        "  \"SSD\", \"SupplymentaryBattery\", \"TabletPC\", \"Thinner\", \"ThrowingKnife\", \"USB\", \"ZippoOil\"\n",
        "]\n",
        "categories = [\n",
        "  \"Multiple_Categories\",\n",
        "  \"Multiple_Other\",\n",
        "  \"Single_Default\",\n",
        "  \"Single_Other\"\n",
        "]\n",
        "\n",
        "txt_path = \"/content/drive/MyDrive/datasets/xray/del_files.txt\"\n",
        "with open(txt_path, \"w\") as f:\n",
        "  for m in modes:\n",
        "    for com in companies:\n",
        "      for cls in classes:\n",
        "        for ctg in categories:\n",
        "          png_path = f\"/content/drive/MyDrive/datasets/xray/{m}/{com}/{cls}/{ctg}/*.png\"\n",
        "          anno_path = f\"/content/drive/MyDrive/datasets/xray/Annotation/{m}/{com}/{cls}/{ctg}/*.txt\"\n",
        "          if os.path.exists(png_path) and os.path.exists(anno_path):\n",
        "            png_names = glob.glob(png_path)\n",
        "            anno_names = glob.glob(anno_path)\n",
        "            if len(png_names) > len(anno_names):\n",
        "              for png in png_names:\n",
        "                png2txt = png.replace(\"png\", \"txt\")\n",
        "                if png2txt not in anno_names:\n",
        "                  os.system(f\"rm {png}\")\n",
        "                  f.write(png +'\\n')\n",
        "          else:\n",
        "            if os.path.exists(png_path):\n",
        "              print(png_path, \"is not exist...\")\n",
        "            if os.path.exists(anno_path):\n",
        "              print(anno_path, \"is not exist...\")"
      ]
    },
    {
      "cell_type": "markdown",
      "metadata": {
        "id": "XUuaMwEAViSy"
      },
      "source": [
        "## json annotation parser"
      ]
    },
    {
      "cell_type": "markdown",
      "metadata": {
        "id": "I5ryNs9hasY1"
      },
      "source": [
        "### deleter"
      ]
    },
    {
      "cell_type": "code",
      "execution_count": null,
      "metadata": {
        "colab": {
          "background_save": true
        },
        "id": "hI9FxXGlauxD"
      },
      "outputs": [],
      "source": [
        "import os\n",
        "import glob\n",
        "\n",
        "modes = [\n",
        "  \"Train\", \n",
        "  \"Validation\"\n",
        "]\n",
        "companies = [\n",
        "  \"Smith\",\n",
        "  \"Astrophysics\",\n",
        "  \"Rapiscan\"\n",
        "]\n",
        "classes = [\n",
        "  \"Aerosol\", \"Alcohol\", \"Awl\", \"Axe\", \"Bat\", \"Battery\", \"Bullet\", \"Chisel\", \"ElectronicCigarettes\",\n",
        "  \"ElectronicCigarettesLiquid\", \"Firecracker\", \"Gun\", \"GunParts\", \"Hammer\", \"HandCuffs\",\n",
        "  \"HDDExternal\", \"HDD\", \"Knife\", \"LapTop\", \"Lighter\", \"Liquid\", \"Match\", \"MetalPipe\", \"NailClippers\",\n",
        "  \"Plier\", \"PortableGas\", \"Saw\", \"Scissors\", \"Screwdriver\", \"SmartPhone\", \"SolidFuel\", \"Spanner\",\n",
        "  \"SSD\", \"SupplymentaryBattery\", \"TabletPC\", \"Thinner\", \"ThrowingKnife\", \"USB\", \"ZippoOil\"\n",
        "]\n",
        "categories = [\n",
        "  \"Multiple_Categories\",\n",
        "  \"Multiple_Other\",\n",
        "  \"Single_Default\",\n",
        "  \"Single_Other\"\n",
        "]\n",
        "\n",
        "for m in modes:\n",
        "  for com in companies:\n",
        "    for cls in classes:\n",
        "      for ctg in categories:\n",
        "        path = f\"/content/drive/MyDrive/datasets/xray/Annotation/{m}/{com}/{cls}/{ctg}\"\n",
        "        if os.path.exists(path):\n",
        "          txt_list = glob.glob(f\"{path}/*.txt\")\n",
        "          for txt in txt_list:\n",
        "            os.system(f\"rm {txt}\")\n",
        "        else:\n",
        "          print(path, \"is not exist...\")"
      ]
    },
    {
      "cell_type": "markdown",
      "metadata": {
        "id": "utr7P3V8avAc"
      },
      "source": [
        "### extrector"
      ]
    },
    {
      "cell_type": "code",
      "execution_count": null,
      "metadata": {
        "colab": {
          "background_save": true
        },
        "id": "kLIb1zDRfHNL"
      },
      "outputs": [],
      "source": [
        "import os\n",
        "import xml.etree.ElementTree as elemTree\n",
        "import glob\n",
        "import shutil\n",
        "import zipfile \n",
        "\n",
        "path = \"/content/drive/MyDrive/datasets/xray/Annotation/Train.zip\"\n",
        "os.system(f\"cp {path} /content\")\n",
        "\n",
        "unpack_zipfile = zipfile.ZipFile(\"/content/Train.zip\")\n",
        "unpack_zipfile.extractall(\"/content\")\n",
        "unpack_zipfile.close()\n",
        "\n",
        "path = \"/content/drive/MyDrive/datasets/xray/Annotation/Validation.zip\"\n",
        "os.system(f\"cp {path} /content\")\n",
        "\n",
        "unpack_zipfile = zipfile.ZipFile(\"/content/Validation.zip\")\n",
        "unpack_zipfile.extractall(\"/content\")\n",
        "unpack_zipfile.close()"
      ]
    },
    {
      "cell_type": "code",
      "execution_count": null,
      "metadata": {
        "colab": {
          "background_save": true
        },
        "id": "y4jUBjT5aY-M",
        "outputId": "77919033-b424-4bfb-9e4c-83e04343fb29"
      },
      "outputs": [
        {
          "name": "stdout",
          "output_type": "stream",
          "text": [
            "smith\n",
            "/content/drive/MyDrive/datasets/xray/Annotation/Train/Smith/ZippoOil/Single_Default/H_2707.99-1000_01_093.txt\n",
            "/content/drive/MyDrive/datasets/xray/Annotation/Train/Smith/ZippoOil/Single_Default/H_2707.99-1000_01_094.txt\n",
            "/content/drive/MyDrive/datasets/xray/Annotation/Train/Smith/ZippoOil/Single_Default/H_2707.99-1000_01_095.txt\n",
            "/content/drive/MyDrive/datasets/xray/Annotation/Train/Smith/ZippoOil/Single_Default/H_2707.99-1000_01_096.txt\n",
            "/content/drive/MyDrive/datasets/xray/Annotation/Train/Smith/ZippoOil/Single_Default/H_2707.99-1000_01_097.txt\n",
            "/content/drive/MyDrive/datasets/xray/Annotation/Train/Smith/ZippoOil/Single_Default/H_2707.99-1000_01_098.txt\n",
            "/content/drive/MyDrive/datasets/xray/Annotation/Train/Smith/ZippoOil/Single_Default/H_2707.99-1000_01_099.txt\n",
            "/content/drive/MyDrive/datasets/xray/Annotation/Train/Smith/ZippoOil/Single_Default/H_2707.99-1000_01_100.txt\n",
            "/content/drive/MyDrive/datasets/xray/Annotation/Train/Smith/ZippoOil/Single_Default/H_2707.99-1000_01_101.txt\n",
            "/content/drive/MyDrive/datasets/xray/Annotation/Train/Smith/ZippoOil/Single_Default/H_2707.99-1000_01_102.txt\n",
            "/content/drive/MyDrive/datasets/xray/Annotation/Train/Smith/ZippoOil/Single_Default/H_2707.99-1000_01_103.txt\n",
            "/content/drive/MyDrive/datasets/xray/Annotation/Train/Smith/ZippoOil/Single_Default/H_2707.99-1000_01_104.txt\n",
            "/content/drive/MyDrive/datasets/xray/Annotation/Train/Smith/ZippoOil/Single_Default/H_2707.99-1000_01_105.txt\n",
            "/content/drive/MyDrive/datasets/xray/Annotation/Train/Smith/ZippoOil/Single_Default/H_2707.99-1000_01_106.txt\n",
            "/content/drive/MyDrive/datasets/xray/Annotation/Train/Smith/ZippoOil/Single_Default/H_2707.99-1000_01_107.txt\n",
            "/content/drive/MyDrive/datasets/xray/Annotation/Train/Smith/ZippoOil/Multiple_Other/H_2707.99-1000_01_199.txt\n",
            "/content/drive/MyDrive/datasets/xray/Annotation/Train/Smith/ZippoOil/Multiple_Other/H_2707.99-1000_01_200.txt\n",
            "/content/drive/MyDrive/datasets/xray/Annotation/Train/Smith/ZippoOil/Multiple_Other/H_2707.99-1000_01_201.txt\n",
            "/content/drive/MyDrive/datasets/xray/Annotation/Train/Smith/ZippoOil/Multiple_Other/H_2707.99-1000_01_202.txt\n",
            "/content/drive/MyDrive/datasets/xray/Annotation/Train/Smith/ZippoOil/Multiple_Other/H_2707.99-1000_01_203.txt\n",
            "/content/drive/MyDrive/datasets/xray/Annotation/Train/Smith/ZippoOil/Multiple_Other/H_2707.99-1000_01_204.txt\n",
            "/content/drive/MyDrive/datasets/xray/Annotation/Train/Smith/ZippoOil/Multiple_Other/H_2707.99-1000_01_205.txt\n",
            "/content/drive/MyDrive/datasets/xray/Annotation/Train/Smith/ZippoOil/Multiple_Other/H_2707.99-1000_01_206.txt\n",
            "/content/drive/MyDrive/datasets/xray/Annotation/Train/Smith/ZippoOil/Multiple_Other/H_2707.99-1000_01_207.txt\n",
            "/content/drive/MyDrive/datasets/xray/Annotation/Train/Smith/ZippoOil/Multiple_Other/H_2707.99-1000_01_208.txt\n",
            "/content/drive/MyDrive/datasets/xray/Annotation/Train/Smith/ZippoOil/Multiple_Other/H_2707.99-1000_01_209.txt\n",
            "/content/drive/MyDrive/datasets/xray/Annotation/Train/Smith/ZippoOil/Multiple_Other/H_2707.99-1000_01_210.txt\n",
            "/content/drive/MyDrive/datasets/xray/Annotation/Train/Smith/ZippoOil/Multiple_Other/H_2707.99-1000_01_211.txt\n",
            "/content/drive/MyDrive/datasets/xray/Annotation/Train/Smith/ZippoOil/Multiple_Other/H_2707.99-1000_01_212.txt\n",
            "/content/drive/MyDrive/datasets/xray/Annotation/Train/Smith/ZippoOil/Multiple_Other/H_2707.99-1000_01_213.txt\n",
            "/content/drive/MyDrive/datasets/xray/Annotation/Train/Smith/ZippoOil/Multiple_Other/H_2707.99-1000_01_214.txt\n",
            "/content/drive/MyDrive/datasets/xray/Annotation/Train/Smith/ZippoOil/Multiple_Other/H_2707.99-1000_01_215.txt\n",
            "/content/drive/MyDrive/datasets/xray/Annotation/Train/Smith/ZippoOil/Multiple_Other/H_2707.99-1000_01_216.txt\n",
            "/content/drive/MyDrive/datasets/xray/Annotation/Train/Smith/ZippoOil/Multiple_Other/H_2707.99-1000_01_217.txt\n",
            "/content/drive/MyDrive/datasets/xray/Annotation/Train/Smith/ZippoOil/Multiple_Other/H_2707.99-1000_01_218.txt\n",
            "/content/drive/MyDrive/datasets/xray/Annotation/Train/Smith/ZippoOil/Multiple_Other/H_2707.99-1000_01_219.txt\n",
            "/content/drive/MyDrive/datasets/xray/Annotation/Train/Smith/ZippoOil/Multiple_Other/H_2707.99-1000_01_220.txt\n",
            "/content/drive/MyDrive/datasets/xray/Annotation/Train/Smith/ZippoOil/Multiple_Other/H_2707.99-1000_01_221.txt\n",
            "/content/drive/MyDrive/datasets/xray/Annotation/Train/Smith/ZippoOil/Multiple_Other/H_2707.99-1000_01_222.txt\n",
            "/content/drive/MyDrive/datasets/xray/Annotation/Train/Smith/ZippoOil/Multiple_Other/H_2707.99-1000_01_223.txt\n",
            "/content/drive/MyDrive/datasets/xray/Annotation/Train/Smith/ZippoOil/Multiple_Other/H_2707.99-1000_01_224.txt\n",
            "/content/drive/MyDrive/datasets/xray/Annotation/Train/Smith/ZippoOil/Multiple_Other/H_2707.99-1000_01_225.txt\n",
            "/content/drive/MyDrive/datasets/xray/Annotation/Train/Smith/ZippoOil/Multiple_Other/H_2707.99-1000_01_226.txt\n",
            "/content/drive/MyDrive/datasets/xray/Annotation/Train/Smith/ZippoOil/Multiple_Categories/H_2707.99-1000_01_227.txt\n",
            "/content/drive/MyDrive/datasets/xray/Annotation/Train/Smith/ZippoOil/Multiple_Categories/H_2707.99-1000_01_228.txt\n",
            "/content/drive/MyDrive/datasets/xray/Annotation/Train/Smith/ZippoOil/Multiple_Categories/H_2707.99-1000_01_229.txt\n",
            "/content/drive/MyDrive/datasets/xray/Annotation/Train/Smith/ZippoOil/Multiple_Categories/H_2707.99-1000_01_230.txt\n",
            "/content/drive/MyDrive/datasets/xray/Annotation/Train/Smith/ZippoOil/Multiple_Categories/H_2707.99-1000_01_231.txt\n",
            "/content/drive/MyDrive/datasets/xray/Annotation/Train/Smith/ZippoOil/Multiple_Categories/H_2707.99-1000_01_232.txt\n",
            "/content/drive/MyDrive/datasets/xray/Annotation/Train/Smith/ZippoOil/Multiple_Categories/H_2707.99-1000_01_233.txt\n",
            "/content/drive/MyDrive/datasets/xray/Annotation/Train/Smith/ZippoOil/Multiple_Categories/H_2707.99-1000_01_234.txt\n",
            "/content/drive/MyDrive/datasets/xray/Annotation/Train/Smith/ZippoOil/Multiple_Categories/H_2707.99-1000_01_235.txt\n",
            "/content/drive/MyDrive/datasets/xray/Annotation/Train/Smith/ZippoOil/Multiple_Categories/H_2707.99-1000_01_236.txt\n",
            "/content/drive/MyDrive/datasets/xray/Annotation/Train/Smith/ZippoOil/Multiple_Categories/H_2707.99-1000_01_237.txt\n",
            "/content/drive/MyDrive/datasets/xray/Annotation/Train/Smith/ZippoOil/Multiple_Categories/H_2707.99-1000_01_238.txt\n",
            "/content/drive/MyDrive/datasets/xray/Annotation/Train/Smith/ZippoOil/Multiple_Categories/H_2707.99-1000_01_239.txt\n",
            "/content/drive/MyDrive/datasets/xray/Annotation/Train/Smith/ZippoOil/Multiple_Categories/H_2707.99-1000_01_240.txt\n",
            "/content/drive/MyDrive/datasets/xray/Annotation/Train/Smith/ZippoOil/Multiple_Categories/H_2707.99-1000_01_241.txt\n",
            "/content/drive/MyDrive/datasets/xray/Annotation/Train/Smith/ZippoOil/Multiple_Categories/H_2707.99-1000_01_242.txt\n",
            "/content/drive/MyDrive/datasets/xray/Annotation/Train/Smith/ZippoOil/Multiple_Categories/H_2707.99-1000_01_243.txt\n",
            "/content/drive/MyDrive/datasets/xray/Annotation/Train/Smith/ZippoOil/Multiple_Categories/H_2707.99-1000_01_244.txt\n",
            "/content/drive/MyDrive/datasets/xray/Annotation/Train/Smith/ZippoOil/Multiple_Categories/H_2707.99-1000_01_245.txt\n",
            "/content/drive/MyDrive/datasets/xray/Annotation/Train/Smith/ZippoOil/Multiple_Categories/H_2707.99-1000_01_246.txt\n",
            "/content/drive/MyDrive/datasets/xray/Annotation/Train/Smith/ZippoOil/Multiple_Categories/H_2707.99-1000_01_247.txt\n",
            "/content/drive/MyDrive/datasets/xray/Annotation/Train/Smith/ZippoOil/Multiple_Categories/H_2707.99-1000_01_248.txt\n",
            "/content/drive/MyDrive/datasets/xray/Annotation/Train/Smith/ZippoOil/Multiple_Categories/H_2707.99-1000_01_249.txt\n",
            "/content/drive/MyDrive/datasets/xray/Annotation/Train/Smith/ZippoOil/Multiple_Categories/H_2707.99-1000_01_250.txt\n",
            "/content/drive/MyDrive/datasets/xray/Annotation/Train/Smith/ZippoOil/Multiple_Categories/H_2707.99-1000_01_251.txt\n",
            "/content/drive/MyDrive/datasets/xray/Annotation/Train/Smith/ZippoOil/Multiple_Categories/H_2707.99-1000_01_252.txt\n",
            "/content/drive/MyDrive/datasets/xray/Annotation/Train/Smith/ZippoOil/Multiple_Categories/H_2707.99-1000_01_253.txt\n",
            "/content/drive/MyDrive/datasets/xray/Annotation/Train/Smith/ZippoOil/Multiple_Categories/H_2707.99-1000_01_254.txt\n",
            "/content/drive/MyDrive/datasets/xray/Annotation/Train/Smith/ZippoOil/Multiple_Categories/H_2707.99-1000_01_255.txt\n",
            "/content/drive/MyDrive/datasets/xray/Annotation/Train/Smith/ZippoOil/Multiple_Categories/H_2707.99-1000_01_256.txt\n",
            "/content/drive/MyDrive/datasets/xray/Annotation/Train/Smith/ZippoOil/Multiple_Categories/H_2707.99-1000_01_257.txt\n",
            "/content/drive/MyDrive/datasets/xray/Annotation/Train/Smith/ZippoOil/Multiple_Categories/H_2707.99-1000_01_258.txt\n",
            "/content/drive/MyDrive/datasets/xray/Annotation/Train/Smith/ZippoOil/Multiple_Categories/H_2707.99-1000_01_259.txt\n",
            "/content/drive/MyDrive/datasets/xray/Annotation/Train/Smith/ZippoOil/Multiple_Categories/H_2707.99-1000_01_260.txt\n",
            "/content/drive/MyDrive/datasets/xray/Annotation/Train/Smith/ZippoOil/Multiple_Categories/H_2707.99-1000_01_261.txt\n",
            "/content/drive/MyDrive/datasets/xray/Annotation/Train/Smith/ZippoOil/Multiple_Categories/H_2707.99-1000_01_262.txt\n"
          ]
        },
        {
          "ename": "AssertionError",
          "evalue": "ignored",
          "output_type": "error",
          "traceback": [
            "\u001b[0;31m---------------------------------------------------------------------------\u001b[0m",
            "\u001b[0;31mAssertionError\u001b[0m                            Traceback (most recent call last)",
            "\u001b[0;32m<ipython-input-5-a18cc1d78b9d>\u001b[0m in \u001b[0;36m<module>\u001b[0;34m()\u001b[0m\n\u001b[1;32m     68\u001b[0m             \u001b[0mh\u001b[0m \u001b[0;34m=\u001b[0m \u001b[0;34m(\u001b[0m\u001b[0mymax\u001b[0m \u001b[0;34m-\u001b[0m \u001b[0mymin\u001b[0m\u001b[0;34m)\u001b[0m \u001b[0;34m/\u001b[0m \u001b[0mimg_h\u001b[0m\u001b[0;34m\u001b[0m\u001b[0;34m\u001b[0m\u001b[0m\n\u001b[1;32m     69\u001b[0m \u001b[0;34m\u001b[0m\u001b[0m\n\u001b[0;32m---> 70\u001b[0;31m             \u001b[0;32massert\u001b[0m \u001b[0mx\u001b[0m \u001b[0;34m<=\u001b[0m \u001b[0;36m1\u001b[0m \u001b[0;32mand\u001b[0m \u001b[0my\u001b[0m \u001b[0;34m<=\u001b[0m \u001b[0;36m1\u001b[0m \u001b[0;32mand\u001b[0m \u001b[0mw\u001b[0m \u001b[0;34m<=\u001b[0m \u001b[0;36m1\u001b[0m \u001b[0;32mand\u001b[0m \u001b[0mh\u001b[0m \u001b[0;34m<=\u001b[0m \u001b[0;36m1\u001b[0m\u001b[0;34m\u001b[0m\u001b[0;34m\u001b[0m\u001b[0m\n\u001b[0m\u001b[1;32m     71\u001b[0m \u001b[0;34m\u001b[0m\u001b[0m\n\u001b[1;32m     72\u001b[0m             \u001b[0msave_string\u001b[0m \u001b[0;34m=\u001b[0m \u001b[0;34mf\"{cls_idx} {x} {y} {w} {h}\"\u001b[0m\u001b[0;34m\u001b[0m\u001b[0;34m\u001b[0m\u001b[0m\n",
            "\u001b[0;31mAssertionError\u001b[0m: "
          ]
        }
      ],
      "source": [
        "import json\n",
        "\n",
        "companies = [\n",
        "        \"smith\", \n",
        "        \"astrophysics\", \n",
        "        \"rapiscan\"\n",
        "]\n",
        "classes = [\"Aerosol\", \"Alcohol\", \"Awl\", \"Axe\", \"Bat\", \"Battery\", \"Bullet\", \"Chisel\", \"ElectronicCigarettes\",\n",
        "        \"ElectronicCigarettesLiquid\", \"Firecracker\", \"Gun\", \"GunParts\", \"Hammer\", \"HandCuffs\",\n",
        "        \"HDDExternal\", \"HDD\", \"Knife\", \"LapTop\", \"Lighter\", \"Liquid\", \"Match\", \"MetalPipe\", \"NailClippers\",\n",
        "        \"Plier\", \"PortableGas\", \"Saw\", \"Scissors\", \"Screwdriver\", \"SmartPhone\", \"SolidFuel\", \"Spanner\",\n",
        "        \"SSD\", \"SupplymentaryBattery\", \"TabletPC\", \"Thinner\", \"ThrowingKnife\", \"USB\", \"ZippoOil\"]\n",
        "to_change = {\n",
        "        \"Electronic cigarettes\":\"ElectronicCigarettes\", \n",
        "        \"Electronic_cigarettes\":\"ElectronicCigarettes\", \n",
        "        \"Electronic cigarettes_Liquid\":\"ElectronicCigarettesLiquid\", \n",
        "        \"Electronic cigarettes(Liquid)\":\"ElectronicCigarettesLiquid\", \n",
        "        \"ElectronicCigarettes_Liquid\":\"ElectronicCigarettesLiquid\",\n",
        "        \"HDD_External\":\"HDDExternal\", \n",
        "        \"Throwing Knife\":\"ThrowingKnife\",\n",
        "        \"stun gun\":\"Gun\",\n",
        "        \"PrtableGas\":\"PortableGas\",\n",
        "        \"Laptop\":\"LapTop\"\n",
        "}\n",
        "modes = [\"Train\", \"Validation\"]\n",
        "\n",
        "for company in companies:\n",
        "  for m in modes:\n",
        "    print(company)\n",
        "    json_path = f\"/content/{m}/CoCo/coco_{company}.json\"\n",
        "\n",
        "    with open(json_path, \"r\") as fj:\n",
        "      json_file = json.load(fj)\n",
        "\n",
        "    images = json_file[\"images\"]\n",
        "    categories = json_file[\"categories\"]\n",
        "    annotations = json_file[\"annotations\"]\n",
        "\n",
        "    for img, anno in zip(images, annotations):\n",
        "      img_path = img[\"path\"].split(\"\\\\\")[-4:]\n",
        "      img_path[-1] = img_path[-1].replace(\"png\", \"txt\")\n",
        "      if img_path[1] in to_change:\n",
        "        img_path[1] = to_change[img_path[1]]\n",
        "      cls = img_path[1]\n",
        "\n",
        "      save_path = f\"/content/drive/MyDrive/datasets/xray/Annotation/{m}/\" + \"/\".join(img_path)\n",
        "      print(save_path)\n",
        "\n",
        "      img_w = img[\"width\"]\n",
        "      img_h = img[\"height\"]\n",
        "\n",
        "      try:\n",
        "        with open(save_path, \"w\") as f:\n",
        "          for i, seg in enumerate(anno[\"segmentation\"]):\n",
        "            cls_idx = classes.index(cls)\n",
        "\n",
        "            x = seg[0::2]\n",
        "            y = seg[1::2]\n",
        "\n",
        "            xmax = max(x)\n",
        "            xmin = min(x)\n",
        "            ymax = max(y)\n",
        "            ymin = min(y)\n",
        "\n",
        "            x = (xmax + xmin / 2) / img_w\n",
        "            y = (ymax + ymin / 2) / img_h\n",
        "            w = (xmax - xmin) / img_w\n",
        "            h = (ymax - ymin) / img_h\n",
        "\n",
        "            assert x <= 1 and y <= 1 and w <= 1 and h <= 1\n",
        "\n",
        "            save_string = f\"{cls_idx} {x} {y} {w} {h}\"\n",
        "            \n",
        "            f.write(save_string)\n",
        "\n",
        "      except FileNotFoundError:\n",
        "        print(\"Some error occurred!\")\n",
        "        error_file_path = \"/content/drive/MyDrive/datasets/xray/error.txt\"\n",
        "        with open(error_file_path, \"a\") as f:\n",
        "          f.write(save_path + \"\\n\")\n",
        "          line = \"==\"*50\n",
        "          f.write(\"line\" + \"\\n\")"
      ]
    },
    {
      "cell_type": "markdown",
      "metadata": {
        "id": "6XSlFjEQeTlq"
      },
      "source": [
        "### test"
      ]
    },
    {
      "cell_type": "code",
      "execution_count": null,
      "metadata": {
        "id": "zJWmfGpIOHjz"
      },
      "outputs": [],
      "source": [
        "import json\n",
        "\n",
        "json_path = f\"/content/drive/MyDrive/datasets/xray/Annotation/Train/CoCo/coco_smith.json\"\n",
        "\n",
        "with open(json_path, \"r\") as fj:\n",
        "  json_file = json.load(fj)\n",
        "\n",
        "print(json_file[\"images\"][0])\n",
        "print(json_file[\"annotations\"][0])"
      ]
    },
    {
      "cell_type": "markdown",
      "metadata": {
        "id": "kptz9u3UVkKI"
      },
      "source": [
        "## xml annotation parser"
      ]
    },
    {
      "cell_type": "markdown",
      "metadata": {
        "id": "ad65KOJL5AgV"
      },
      "source": [
        "### deleter"
      ]
    },
    {
      "cell_type": "code",
      "execution_count": null,
      "metadata": {
        "id": "xHN2Nn5S5AMo"
      },
      "outputs": [],
      "source": [
        "import os\n",
        "import glob\n",
        "\n",
        "modes = [\n",
        "  \"Train\", \n",
        "  \"Validation\"\n",
        "]\n",
        "companies = [\n",
        "  \"Smith\",\n",
        "  \"Astrophysics\",\n",
        "  \"Rapiscan\"\n",
        "]\n",
        "classes = [\n",
        "  \"Aerosol\", \"Alcohol\", \"Awl\", \"Axe\", \"Bat\", \"Battery\", \"Bullet\", \"Chisel\", \"ElectronicCigarettes\",\n",
        "  \"ElectronicCigarettesLiquid\", \"Firecracker\", \"Gun\", \"GunParts\", \"Hammer\", \"HandCuffs\",\n",
        "  \"HDDExternal\", \"HDD\", \"Knife\", \"LapTop\", \"Lighter\", \"Liquid\", \"Match\", \"MetalPipe\", \"NailClippers\",\n",
        "  \"Plier\", \"PortableGas\", \"Saw\", \"Scissors\", \"Screwdriver\", \"SmartPhone\", \"SolidFuel\", \"Spanner\",\n",
        "  \"SSD\", \"SupplymentaryBattery\", \"TabletPC\", \"Thinner\", \"ThrowingKnife\", \"USB\", \"ZippoOil\"\n",
        "]\n",
        "categories = [\n",
        "  \"Multiple_Categories\",\n",
        "  \"Multiple_Other\",\n",
        "  \"Single_Default\",\n",
        "  \"Single_Other\"\n",
        "]\n",
        "\n",
        "for m in modes:\n",
        "  for com in companies:\n",
        "    for cls in classes:\n",
        "      for ctg in categories:\n",
        "        path = f\"/content/drive/MyDrive/datasets/xray/Annotation/{m}/{com}/{cls}/{ctg}\"\n",
        "        if os.path.exists(path):\n",
        "          txt_list = glob.glob(f\"{path}/*.txt\")\n",
        "          for txt in txt_list:\n",
        "            os.system(f\"rm {txt}\")\n",
        "        else:\n",
        "          print(path, \"is not exist...\")\n",
        "\n",
        "for m in modes:\n",
        "  for com in companies:\n",
        "    for cls in classes:\n",
        "      for ctg in categories:\n",
        "        path = f\"/content/drive/MyDrive/datasets/xray/Annotation/{m}/Origin/Pascal/{com}\"\n",
        "        if os.path.exists(path):\n",
        "          xml_list = glob.glob(f\"{path}/*.xml\")\n",
        "          dest_path = f\"/content/drive/MyDrive/datasets/xray/Annotation/{m}/Pascal/{com}\"\n",
        "          for xml in xml_list:\n",
        "            os.system(f\"mv {xml} {dest_path}\")\n",
        "        else:\n",
        "          print(path, \"is not exist...\") "
      ]
    },
    {
      "cell_type": "markdown",
      "metadata": {
        "id": "BiLNe3bO5l9b"
      },
      "source": [
        "### xml parser"
      ]
    },
    {
      "cell_type": "code",
      "execution_count": null,
      "metadata": {
        "colab": {
          "background_save": true
        },
        "id": "vGFrvJ1w5efq"
      },
      "outputs": [],
      "source": [
        "import os\n",
        "import xml.etree.ElementTree as elemTree\n",
        "import glob\n",
        "import shutil\n",
        "import zipfile \n",
        "\n",
        "path = \"/content/drive/MyDrive/datasets/xray/Annotation/Train.zip\"\n",
        "os.system(f\"cp {path} /content\")\n",
        "\n",
        "unpack_zipfile = zipfile.ZipFile(\"/content/Train.zip\")\n",
        "unpack_zipfile.extractall(\"/content\")\n",
        "unpack_zipfile.close()"
      ]
    },
    {
      "cell_type": "code",
      "execution_count": null,
      "metadata": {
        "colab": {
          "background_save": true
        },
        "id": "BxrSf4Io1-Lp"
      },
      "outputs": [],
      "source": [
        "classes = [\"Aerosol\", \"Alcohol\", \"Awl\", \"Axe\", \"Bat\", \"Battery\", \"Bullet\", \"Chisel\", \"ElectronicCigarettes\",\n",
        "        \"ElectronicCigarettesLiquid\", \"Firecracker\", \"Gun\", \"GunParts\", \"Hammer\", \"HandCuffs\",\n",
        "        \"HDDExternal\", \"HDD\", \"Knife\", \"LapTop\", \"Lighter\", \"Liquid\", \"Match\", \"MetalPipe\", \"NailClippers\",\n",
        "        \"Plier\", \"PortableGas\", \"Saw\", \"Scissors\", \"Screwdriver\", \"SmartPhone\", \"SolidFuel\", \"Spanner\",\n",
        "        \"SSD\", \"SupplymentaryBattery\", \"TabletPC\", \"Thinner\", \"ThrowingKnife\", \"USB\", \"ZippoOil\"]\n",
        "to_change = {\"Electronic cigarettes\":\"ElectronicCigarettes\", \n",
        "             \"Electronic_cigarettes\":\"ElectronicCigarettes\", \n",
        "             \"Electronic cigarettes_Liquid\":\"ElectronicCigarettesLiquid\", \n",
        "             \"Electronic cigarettes(Liquid)\":\"ElectronicCigarettesLiquid\", \n",
        "             \"ElectronicCigarettes_Liquid\":\"ElectronicCigarettesLiquid\",\n",
        "             \"HDD_External\":\"HDDExternal\", \n",
        "             \"Throwing Knife\":\"ThrowingKnife\",\n",
        "             \"stun gun\":\"Gun\",\n",
        "             \"PrtableGas\":\"PortableGas\",\n",
        "             \"Laptop\":\"LapTop\"\n",
        "}\n",
        "modes = [\"Train\"]\n",
        "companies = [\n",
        "             \"Smith\"\n",
        "]\n",
        "\n",
        "for mode in modes:\n",
        "  print(\"=\"*50)\n",
        "  root_path = f\"/content/drive/MyDrive/datasets/xray/Annotation/{mode}\"\n",
        "\n",
        "  for com in companies:\n",
        "    xml_dir = f\"/content/Train/Pascal/{com}/*.xml\"\n",
        "    print(xml_dir)\n",
        "    xml_path_list = glob.glob(xml_dir, recursive=True)    \n",
        "\n",
        "    for xml_path in xml_path_list:\n",
        "      if \"xml\" not in xml_path: continue\n",
        "      tree = elemTree.parse(xml_path)\n",
        "      root = tree.getroot()\n",
        "      \n",
        "      size = root.find(\"size\")      \n",
        "      img_w = int(size.findtext(\"width\"))\n",
        "      img_h = int(size.findtext(\"height\"))\n",
        "\n",
        "      anno_path = root.find(\"path\").text.split(\"\\\\\")[-4:]\n",
        "      if anno_path[1] in to_change:\n",
        "        anno_path[1] = to_change[anno_path[1]]\n",
        "      anno_path[-1] = anno_path[-1].replace(\"png\", \"txt\")\n",
        "      anno_path = '/'.join(anno_path)\n",
        "      save_path = f\"{root_path}/{anno_path}\"\n",
        "      print(save_path)\n",
        "\n",
        "      try:\n",
        "        with open(save_path, \"w\") as f:\n",
        "          for obj in root.iter(\"object\"):\n",
        "            cls = obj.find(\"name\").text\n",
        "            if cls in to_change:\n",
        "              cls = to_change[cls]\n",
        "            cls_idx = classes.index(cls)\n",
        "\n",
        "            xmin = int(obj.find(\"bndbox\").findtext(\"xmin\"))\n",
        "            xmax = int(obj.find(\"bndbox\").findtext(\"xmax\"))\n",
        "            ymin = int(obj.find(\"bndbox\").findtext(\"ymin\"))\n",
        "            ymax = int(obj.find(\"bndbox\").findtext(\"ymax\"))\n",
        "\n",
        "            x = (xmax + xmin / 2) / img_w\n",
        "            y = (ymax + ymin / 2) / img_h\n",
        "            w = (xmax - xmin) / img_w\n",
        "            h = (ymax - ymin) / img_h\n",
        "\n",
        "            save_str = f\"{cls_idx} {x} {y} {w} {h}\\n\"\n",
        "            f.write(save_str)\n",
        "\n",
        "      except FileNotFoundError:\n",
        "        print(f\"Some error occurred : {save_path}\")\n",
        "        error_file_path = \"/content/drive/MyDrive/datasets/xray/error.txt\"\n",
        "        with open(error_file_path, \"a\") as f:\n",
        "          f.write(xml_path + \"\\n\")\n",
        "          f.write(save_path + \"\\n\")\n",
        "          line = \"==\"*50\n",
        "          f.write(f\"{line}\" + \"\\n\")\n",
        "\n",
        "print(\"Done!\")"
      ]
    },
    {
      "cell_type": "markdown",
      "metadata": {
        "id": "aav3mKtsToUl"
      },
      "source": [
        "## txt maker"
      ]
    },
    {
      "cell_type": "code",
      "execution_count": null,
      "metadata": {
        "id": "rHNBpG4Tqlq6"
      },
      "outputs": [],
      "source": [
        "import glob \n",
        "\n",
        "t_smith = \"/content/drive/MyDrive/datasets/xray/Train/Smith/**\"\n",
        "t_rapiscan = \"/content/drive/MyDrive/datasets/xray/Train/Rapiscan/**\"\n",
        "t_astrophysics = \"/content/drive/MyDrive/datasets/xray/Train/Astrophysics/**\"\n",
        "\n",
        "v_smith = \"/content/drive/MyDrive/datasets/xray/Validation/Smith/**\"\n",
        "v_rapiscan = \"/content/drive/MyDrive/datasets/xray/Validation/Rapiscan/**\"\n",
        "v_astrophysics = \"/content/drive/MyDrive/datasets/xray/Validation/Astrophysics/**\"\n",
        "\n",
        "t_smith_list = glob.glob(t_smith, recursive=True)\n",
        "t_rapiscan_list = glob.glob(t_rapiscan, recursive=True)\n",
        "t_astrophysics_list = glob.glob(t_astrophysics, recursive=True)\n",
        "t_all_list = t_smith_list + t_rapiscan_list + t_astrophysics_list\n",
        "\n",
        "v_smith_list = glob.glob(v_smith, recursive=True)\n",
        "v_rapiscan_list = glob.glob(v_rapiscan, recursive=True)\n",
        "v_astrophysics_list = glob.glob(v_astrophysics, recursive=True)\n",
        "v_all_list = v_smith_list + v_rapiscan_list + v_astrophysics_list\n",
        "\n",
        "dir_dict = {\n",
        "  \"train_smith\":t_smith_list, \n",
        "  \"train_rapiscan\":t_rapiscan_list, \n",
        "  \"train_astrophysics\":t_astrophysics_list, \n",
        "  \"train_all\":t_all_list, \n",
        "  \"valid_smith\":v_smith_list, \n",
        "  \"valid_rapiscan\":v_rapiscan_list, \n",
        "  \"valid_astrophysics\":v_astrophysics_list, \n",
        "  \"valid_all\":v_all_list\n",
        "}"
      ]
    },
    {
      "cell_type": "code",
      "execution_count": null,
      "metadata": {
        "id": "-JVTrOJ9cBLD"
      },
      "outputs": [],
      "source": [
        "txt_dir = \"/content/drive/MyDrive/yolor/data\"\n",
        "for name, dirs in dir_dict.items():\n",
        "  txt_path = f\"{txt_dir}/{name}.txt\"\n",
        "  with open(txt_path, \"w\") as f:\n",
        "    for data in dirs:\n",
        "      if \"png\" in data:\n",
        "        f.write(data + \"\\n\")\n",
        "    print(txt_path)"
      ]
    },
    {
      "cell_type": "markdown",
      "metadata": {
        "id": "Bm7Yjb53HeF8"
      },
      "source": [
        "## bbox 잘 쳐지는지 확인함"
      ]
    },
    {
      "cell_type": "code",
      "execution_count": null,
      "metadata": {
        "id": "KkDyobQGHhsj"
      },
      "outputs": [],
      "source": [
        "import cv2\n",
        "import numpy as np\n",
        "import matplotlib.pyplot as plt\n",
        "from PIL import Image, ImageDraw\n",
        "\n",
        "classes = [\n",
        "  \"Aerosol\", \"Alcohol\", \"Awl\", \"Axe\", \"Bat\", \"Battery\", \"Bullet\", \"Chisel\", \"ElectronicCigarettes\",\n",
        "  \"ElectronicCigarettesLiquid\", \"Firecracker\", \"Gun\", \"GunParts\", \"Hammer\", \"HandCuffs\",\n",
        "  \"HDDExternal\", \"HDD\", \"Knife\", \"LapTop\", \"Lighter\", \"Liquid\", \"Match\", \"MetalPipe\", \"NailClippers\",\n",
        "  \"Plier\", \"PortableGas\", \"Saw\", \"Scissors\", \"Screwdriver\", \"SmartPhone\", \"SolidFuel\", \"Spanner\",\n",
        "  \"SSD\", \"SupplymentaryBattery\", \"TabletPC\", \"Thinner\", \"ThrowingKnife\", \"USB\", \"ZippoOil\"\n",
        "]\n",
        "\n",
        "sample_path = \"\"\n",
        "sample_img_path = f\"/content/drive/MyDrive/datasets/xray/Train/{sample_path}\"\n",
        "sample_anno_path = sample_img_path.replace(\"Train\", \"Annotation/Train\").replace(\"png\", \"txt\")\n",
        "\n",
        "img = cv2.imread(sample_img_path)\n",
        "img_h, img_w, _ = img.shape\n",
        "\n",
        "img = Image.fromarray(img).convert(\"RGB\")\n",
        "draw = ImageDraw.Draw(img)\n",
        "\n",
        "with open(sample_anno_path, \"r\") as f:\n",
        "  lines = f.readlines()\n",
        "  for line in lines:\n",
        "    data = line.strip().split(\" \")\n",
        "    \n",
        "    cls = classes[int(data[0])]\n",
        "    x = float(data[1]) * img_w\n",
        "    y = float(data[2]) * img_h\n",
        "    w = float(data[3]) * img_w\n",
        "    h = float(data[4]) * img_h\n",
        "\n",
        "    x1 = x - w / 2\n",
        "    y1 = y - h / 2\n",
        "    x2 = x + w / 2\n",
        "    y2 = y + h / 2\n",
        "\n",
        "    draw.text((x1, y1-10), cls, fill = \"red\")\n",
        "    draw.rectangle((x1, y1, x2, y2), outline=\"red\")\n",
        "\n",
        "plt.imshow(np.array(img))\n",
        "plt.show()"
      ]
    },
    {
      "cell_type": "markdown",
      "metadata": {
        "id": "Xq9uJbXQ3A1L"
      },
      "source": [
        "# Train Model"
      ]
    },
    {
      "cell_type": "markdown",
      "metadata": {
        "id": "hkl-1OxLTftE"
      },
      "source": [
        "## 파일 준비 및 학습 준비"
      ]
    },
    {
      "cell_type": "code",
      "execution_count": null,
      "metadata": {
        "colab": {
          "background_save": true
        },
        "id": "zAOFIb2oTXX5"
      },
      "outputs": [],
      "source": [
        "from distutils.dir_util import copy_tree\n",
        "copy_tree(\"/content/drive/MyDrive/yolor\", \"/content\")"
      ]
    },
    {
      "cell_type": "code",
      "execution_count": null,
      "metadata": {
        "colab": {
          "background_save": true
        },
        "id": "QY2zhF7kAGXY"
      },
      "outputs": [],
      "source": [
        "!pip install -U PyYAML"
      ]
    },
    {
      "cell_type": "markdown",
      "metadata": {
        "id": "FU1zBsb2bapq"
      },
      "source": [
        "## train command"
      ]
    },
    {
      "cell_type": "markdown",
      "metadata": {
        "id": "OJ80K_A4yWdr"
      },
      "source": [
        "### 처음 학습시 사용"
      ]
    },
    {
      "cell_type": "code",
      "execution_count": null,
      "metadata": {
        "colab": {
          "background_save": true
        },
        "id": "_sGLbORH7d7K"
      },
      "outputs": [],
      "source": [
        "COMPANY = \"smith\""
      ]
    },
    {
      "cell_type": "code",
      "execution_count": null,
      "metadata": {
        "colab": {
          "background_save": true
        },
        "id": "dk8JXchFZtj2"
      },
      "outputs": [],
      "source": [
        "!python train.py --batch-size 8 --img 1960 1960 --data /content/data/coco_{COMPANY}.yaml --cfg /content/cfg/yolor_p6.cfg --weights '' --device 0 --name yolor_{COMPANY} --hyp /content/data/hyp.scratch.1280.yaml --epochs 300 --adam --project /content/drive/MyDrive/yolor/runs/train"
      ]
    },
    {
      "cell_type": "code",
      "execution_count": null,
      "metadata": {
        "id": "n-ucG_sH9EWO"
      },
      "outputs": [],
      "source": [
        "!rm /content/drive/MyDrive/datasets/xray/Annotation/Train/Smith/Aerosol/Multiple_Categories/H_8481.80-1090_02_429.txt"
      ]
    },
    {
      "cell_type": "code",
      "execution_count": null,
      "metadata": {
        "id": "BW7DzS9aBvJQ"
      },
      "outputs": [],
      "source": [
        "!rm /content/drive/MyDrive/datasets/xray/Train/Smith/Aerosol/Multiple_Categories/H_8481.80-1090_02_429.png"
      ]
    },
    {
      "cell_type": "markdown",
      "metadata": {
        "id": "DzK3JYUsyZtR"
      },
      "source": [
        "### 이어서 학습시 사용"
      ]
    },
    {
      "cell_type": "code",
      "execution_count": null,
      "metadata": {
        "id": "NbBcUc3c_9HR"
      },
      "outputs": [],
      "source": [
        "COMPANY = \"smith\""
      ]
    },
    {
      "cell_type": "code",
      "execution_count": null,
      "metadata": {
        "id": "OKJd8MN68eTa"
      },
      "outputs": [],
      "source": [
        "!python train.py --batch-size 8 --img 1960 1960 --data /content/data/coco_{COMPANY}.yaml --cfg /content/cfg/yolor_p6.cfg --weights '' --device 0 --name yolor_{COMPANY} --hyp /content/data/hyp.scratch.1280.yaml --epochs 300 --adam --project /content/drive/MyDrive/yolor/runs/train --resume"
      ]
    },
    {
      "cell_type": "markdown",
      "metadata": {
        "id": "fnWvNWPdUkp-"
      },
      "source": [
        "## tensor board"
      ]
    },
    {
      "cell_type": "code",
      "execution_count": null,
      "metadata": {
        "id": "pZ_Im5fVfOli"
      },
      "outputs": [],
      "source": [
        "%load_ext tensorboard"
      ]
    },
    {
      "cell_type": "code",
      "execution_count": null,
      "metadata": {
        "id": "r87ukPhEZtcz"
      },
      "outputs": [],
      "source": [
        "%tensorboard --logdir {'/content/drive/MyDrive/yolor/runs/train'}"
      ]
    }
  ],
  "metadata": {
    "accelerator": "GPU",
    "colab": {
      "background_execution": "on",
      "collapsed_sections": [
        "CtkSIhI9C1in",
        "UdqxxYvDTsVj",
        "KteMO_1FEZH4",
        "C2KmK6uwL1e_",
        "ELndME9g0lY3",
        "GA8aXV-ZcwKk",
        "YobLbG_1oGse",
        "jg2kDAwPco3-",
        "TwqhI99SG2-4",
        "_qW91KhQ7Qob",
        "1HQYxcOdusQI",
        "siWnwiJ2w1YO",
        "ShcJYzw8w36_",
        "6XSlFjEQeTlq",
        "ad65KOJL5AgV",
        "BiLNe3bO5l9b",
        "aav3mKtsToUl",
        "Bm7Yjb53HeF8",
        "DzK3JYUsyZtR"
      ],
      "machine_shape": "hm",
      "name": "yolor_xray.ipynb",
      "provenance": [],
      "authorship_tag": "ABX9TyMJ2mHd8AbZ1yP43kHiJ0P1",
      "include_colab_link": true
    },
    "kernelspec": {
      "display_name": "Python 3",
      "name": "python3"
    },
    "language_info": {
      "name": "python"
    }
  },
  "nbformat": 4,
  "nbformat_minor": 0
}